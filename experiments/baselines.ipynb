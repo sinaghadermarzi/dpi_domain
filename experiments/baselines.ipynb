{
 "cells": [
  {
   "cell_type": "markdown",
   "id": "1ca03d6a-1e20-4401-8b1c-af4077f2ad36",
   "metadata": {},
   "source": [
    "# Evaluation\n",
    "\n",
    "After creating datasets, we want to evaluate these methods on three test sets (1,2,3) and \n",
    "the evaluation is done for affinity and binary prediction separately and we start with the baseline\n"
   ]
  },
  {
   "cell_type": "markdown",
   "id": "d91ef4f0-6cf5-4160-96c0-ac577d1b8449",
   "metadata": {},
   "source": [
    "## baselines\n",
    "Here we have two main baselines: baseline_D and baseline_P\n",
    "\n",
    "### baseline_D\n",
    "in baseline_D, when predicting interaciton for a pair, we only look at the drug and randomly pick one of its affinities and predict as the affinity of the given pair\n",
    "\n",
    "### baseline_P\n",
    "similar to baseline_D but we only look at the protein. "
   ]
  },
  {
   "cell_type": "code",
   "execution_count": 1,
   "id": "4293d111-3be5-4836-ad9c-2072ff830221",
   "metadata": {},
   "outputs": [],
   "source": [
    "# it is fast to compute this, therefore, we just take a test set and report the peformance\n",
    "\n",
    "from data_interfaces.access_bindingdb import bindingdb_records\n",
    "#first we import bindingdb\n",
    "cache_file_path = \"./data_interfaces/cached_data/bindingdb2022m0_bin_All4_1uM_30uM.pkl\"\n",
    "bdb = bindingdb_records()\n",
    "bdb.read_from_pickle(cache_file_path)\n"
   ]
  },
  {
   "cell_type": "code",
   "execution_count": 2,
   "id": "f17e2225-d1ff-416f-903f-51a05e009c36",
   "metadata": {},
   "outputs": [],
   "source": [
    "import dask.dataframe as dd\n",
    "from baselines import *\n",
    "\n",
    "df = dd.read_csv(\"datasets/testset1.csv\",dtype=\"str\",on_bad_lines=\"skip\").compute()"
   ]
  },
  {
   "cell_type": "code",
   "execution_count": 3,
   "id": "5b693617-3bdd-4549-b755-e603e94aa222",
   "metadata": {},
   "outputs": [
    {
     "data": {
      "text/plain": [
       "[{'BindingDB Reactant_set_id': '50101251',\n",
       "  'Ki': ' 0.000000',\n",
       "  'Kd': nan,\n",
       "  'IC50': nan,\n",
       "  'EC50': nan,\n",
       "  'kon (M-1-s-1)': nan,\n",
       "  'koff (s-1)': nan}]"
      ]
     },
     "execution_count": 3,
     "metadata": {},
     "output_type": "execute_result"
    }
   ],
   "source": [
    "bdb.get_records_for_pair(('P00747', '49820816'))"
   ]
  },
  {
   "cell_type": "code",
   "execution_count": 4,
   "id": "f7b50241-4e61-4cbd-aad3-7cd089b2279e",
   "metadata": {},
   "outputs": [
    {
     "name": "stdout",
     "output_type": "stream",
     "text": [
      "affinity results on testset1:\n"
     ]
    },
    {
     "data": {
      "application/vnd.jupyter.widget-view+json": {
       "model_id": "299aa7dfd30a40319ab008fed40139a1",
       "version_major": 2,
       "version_minor": 0
      },
      "text/plain": [
       "repetition:   0%|          | 0/100 [00:00<?, ?it/s]"
      ]
     },
     "metadata": {},
     "output_type": "display_data"
    },
    {
     "name": "stdout",
     "output_type": "stream",
     "text": [
      "\n",
      "Affinity:\n",
      "results for the baseline3_P\n",
      "CI:\t 0.549±0.012\n",
      "MAE:\t 1.853±0.049\n",
      "MSE:\t 5.893±0.444\n",
      "SP:\t 0.137±0.033\n",
      "PEA:\t 0.091±0.035\n",
      "\n",
      "results for the baseline3_C\n",
      "CI:\t 0.456±0.013\n",
      "MAE:\t 2.128±0.040\n",
      "MSE:\t 6.697±0.213\n",
      "SP:\t -0.119±0.037\n",
      "PEA:\t -0.128±0.035\n"
     ]
    }
   ],
   "source": [
    "print(\"affinity results on testset1:\")\n",
    "baseline_results(bdb,df,target = \"affinity\")"
   ]
  },
  {
   "cell_type": "code",
   "execution_count": 3,
   "id": "e2451d61-748e-41e8-842c-7811b7927f9a",
   "metadata": {},
   "outputs": [
    {
     "name": "stdout",
     "output_type": "stream",
     "text": [
      "binary results on testset1:\n"
     ]
    },
    {
     "data": {
      "application/vnd.jupyter.widget-view+json": {
       "model_id": "5805d18cce0743b38911a596e7d0196c",
       "version_major": 2,
       "version_minor": 0
      },
      "text/plain": [
       "repetition:   0%|          | 0/100 [00:00<?, ?it/s]"
      ]
     },
     "metadata": {},
     "output_type": "display_data"
    },
    {
     "name": "stderr",
     "output_type": "stream",
     "text": [
      "/home/ghadermarzis/thesiswork/dpi_domain/experiments/baselines.py:105: RuntimeWarning: divide by zero encountered in log10\n",
      "  sel_ki = 9-numpy.log10(numpy.random.choice(all_ki,1)[0])\n",
      "/home/ghadermarzis/thesiswork/dpi_domain/experiments/baselines.py:105: RuntimeWarning: divide by zero encountered in log10\n",
      "  sel_ki = 9-numpy.log10(numpy.random.choice(all_ki,1)[0])\n",
      "/home/ghadermarzis/thesiswork/dpi_domain/experiments/baselines.py:105: RuntimeWarning: divide by zero encountered in log10\n",
      "  sel_ki = 9-numpy.log10(numpy.random.choice(all_ki,1)[0])\n",
      "/home/ghadermarzis/thesiswork/dpi_domain/experiments/baselines.py:105: RuntimeWarning: divide by zero encountered in log10\n",
      "  sel_ki = 9-numpy.log10(numpy.random.choice(all_ki,1)[0])\n",
      "/home/ghadermarzis/thesiswork/dpi_domain/experiments/baselines.py:105: RuntimeWarning: divide by zero encountered in log10\n",
      "  sel_ki = 9-numpy.log10(numpy.random.choice(all_ki,1)[0])\n",
      "/home/ghadermarzis/thesiswork/dpi_domain/experiments/baselines.py:105: RuntimeWarning: divide by zero encountered in log10\n",
      "  sel_ki = 9-numpy.log10(numpy.random.choice(all_ki,1)[0])\n",
      "/home/ghadermarzis/thesiswork/dpi_domain/experiments/baselines.py:105: RuntimeWarning: divide by zero encountered in log10\n",
      "  sel_ki = 9-numpy.log10(numpy.random.choice(all_ki,1)[0])\n",
      "/home/ghadermarzis/thesiswork/dpi_domain/experiments/baselines.py:105: RuntimeWarning: divide by zero encountered in log10\n",
      "  sel_ki = 9-numpy.log10(numpy.random.choice(all_ki,1)[0])\n"
     ]
    },
    {
     "name": "stdout",
     "output_type": "stream",
     "text": [
      "Binary:\n",
      "-------------------------\n",
      "results for the baseline3_P\n",
      "AUC:\t 0.556±0.014\n",
      "AUPR:\t 0.545±0.013\n",
      "MCC:\t 0.091±0.023\n",
      "F1:\t 0.555±0.011\n",
      "SEN:\t 0.537±0.012\n",
      "SPEC:\t 0.554±0.011\n",
      "\n",
      "results for the baseline3_C\n",
      "AUC:\t 0.428±0.011\n",
      "AUPR:\t 0.482±0.008\n",
      "MCC:\t -0.140±0.019\n",
      "F1:\t 0.238±0.013\n",
      "SEN:\t 0.708±0.011\n",
      "SPEC:\t 0.173±0.011\n"
     ]
    }
   ],
   "source": [
    "print(\"binary results on testset1:\")\n",
    "baseline_results(bdb,df,target = \"binary\")"
   ]
  },
  {
   "cell_type": "code",
   "execution_count": 5,
   "id": "10a9595c-e27a-43f5-89dc-6b304b97d1e8",
   "metadata": {},
   "outputs": [],
   "source": [
    "import dask.dataframe as dd\n",
    "from baselines import *\n",
    "df = dd.read_csv(\"datasets/testset2.csv\",dtype=\"str\",on_bad_lines=\"skip\").compute()"
   ]
  },
  {
   "cell_type": "code",
   "execution_count": 6,
   "id": "cc9c2983-9d84-4412-8d4c-77be4a7791ee",
   "metadata": {},
   "outputs": [
    {
     "name": "stdout",
     "output_type": "stream",
     "text": [
      "affinity results on testset2:\n"
     ]
    },
    {
     "data": {
      "application/vnd.jupyter.widget-view+json": {
       "model_id": "48f6458a2b2f476ba24acb481842a751",
       "version_major": 2,
       "version_minor": 0
      },
      "text/plain": [
       "repetition:   0%|          | 0/100 [00:00<?, ?it/s]"
      ]
     },
     "metadata": {},
     "output_type": "display_data"
    },
    {
     "name": "stdout",
     "output_type": "stream",
     "text": [
      "\n",
      "Affinity:\n",
      "results for the baseline3_P\n",
      "CI:\t 0.573±0.003\n",
      "MAE:\t 1.999±0.011\n",
      "MSE:\t 7.008±0.096\n",
      "SP:\t 0.213±0.008\n",
      "PEA:\t 0.199±0.009\n",
      "\n",
      "results for the baseline3_C\n",
      "CI:\t 0.694±0.002\n",
      "MAE:\t 1.581±0.007\n",
      "MSE:\t 4.334±0.051\n",
      "SP:\t 0.542±0.005\n",
      "PEA:\t 0.581±0.007\n"
     ]
    }
   ],
   "source": [
    "print(\"affinity results on testset2:\")\n",
    "baseline_results(bdb,df,target = \"affinity\")"
   ]
  },
  {
   "cell_type": "code",
   "execution_count": 7,
   "id": "e4843be8-9046-4921-b22d-86913f419ba7",
   "metadata": {},
   "outputs": [
    {
     "name": "stdout",
     "output_type": "stream",
     "text": [
      "binary results on testset1:\n"
     ]
    },
    {
     "data": {
      "application/vnd.jupyter.widget-view+json": {
       "model_id": "9602304fb38546f4855e240c2f29068e",
       "version_major": 2,
       "version_minor": 0
      },
      "text/plain": [
       "repetition:   0%|          | 0/100 [00:00<?, ?it/s]"
      ]
     },
     "metadata": {},
     "output_type": "display_data"
    },
    {
     "name": "stdout",
     "output_type": "stream",
     "text": [
      "Binary:\n",
      "-------------------------\n",
      "results for the baseline3_P\n",
      "AUC:\t 0.618±0.002\n",
      "AUPR:\t 0.602±0.003\n",
      "MCC:\t 0.176±0.004\n",
      "F1:\t 0.596±0.002\n",
      "SEN:\t 0.580±0.002\n",
      "SPEC:\t 0.596±0.002\n",
      "\n",
      "results for the baseline3_C\n",
      "AUC:\t 0.597±0.001\n",
      "AUPR:\t 0.591±0.002\n",
      "MCC:\t 0.231±0.003\n",
      "F1:\t 0.321±0.002\n",
      "SEN:\t 0.953±0.001\n",
      "SPEC:\t 0.200±0.001\n"
     ]
    }
   ],
   "source": [
    "print(\"binary results on testset1:\")\n",
    "baseline_results(bdb,df,target = \"binary\")"
   ]
  },
  {
   "cell_type": "code",
   "execution_count": 8,
   "id": "17a8e585-cc45-4fe6-9d85-4dac5e53e1a5",
   "metadata": {},
   "outputs": [],
   "source": [
    "df = dd.read_csv(\"datasets/testset3.csv\",dtype=\"str\",on_bad_lines=\"skip\").compute()"
   ]
  },
  {
   "cell_type": "code",
   "execution_count": 9,
   "id": "21e4379a-f2c6-436d-85e5-1c5f4d195923",
   "metadata": {},
   "outputs": [
    {
     "name": "stdout",
     "output_type": "stream",
     "text": [
      "affinity results on testset3:\n"
     ]
    },
    {
     "data": {
      "application/vnd.jupyter.widget-view+json": {
       "model_id": "c043c601a8ba476a95105cbc444a7ad1",
       "version_major": 2,
       "version_minor": 0
      },
      "text/plain": [
       "repetition:   0%|          | 0/100 [00:00<?, ?it/s]"
      ]
     },
     "metadata": {},
     "output_type": "display_data"
    },
    {
     "name": "stdout",
     "output_type": "stream",
     "text": [
      "\n",
      "Affinity:\n",
      "results for the baseline3_P\n",
      "CI:\t 0.634±0.003\n",
      "MAE:\t 1.813±0.013\n",
      "MSE:\t 5.735±0.096\n",
      "SP:\t 0.385±0.008\n",
      "PEA:\t 0.409±0.010\n",
      "\n",
      "results for the baseline3_C\n",
      "CI:\t 0.659±0.001\n",
      "MAE:\t 1.624±0.006\n",
      "MSE:\t 4.504±0.039\n",
      "SP:\t 0.453±0.004\n",
      "PEA:\t 0.513±0.007\n"
     ]
    }
   ],
   "source": [
    "print(\"affinity results on testset3:\")\n",
    "baseline_results(bdb,df,target = \"affinity\")"
   ]
  },
  {
   "cell_type": "code",
   "execution_count": 10,
   "id": "bb6c70ae-53ba-4c0c-875c-fff7e4997c8b",
   "metadata": {},
   "outputs": [
    {
     "name": "stdout",
     "output_type": "stream",
     "text": [
      "binary results on testset3:\n"
     ]
    },
    {
     "data": {
      "application/vnd.jupyter.widget-view+json": {
       "model_id": "3c2521873d4d4abfa41faaae9589a0a0",
       "version_major": 2,
       "version_minor": 0
      },
      "text/plain": [
       "repetition:   0%|          | 0/100 [00:00<?, ?it/s]"
      ]
     },
     "metadata": {},
     "output_type": "display_data"
    },
    {
     "name": "stdout",
     "output_type": "stream",
     "text": [
      "Binary:\n",
      "-------------------------\n",
      "results for the baseline3_P\n",
      "AUC:\t 0.614±0.003\n",
      "AUPR:\t 0.618±0.003\n",
      "MCC:\t 0.083±0.004\n",
      "F1:\t 0.551±0.002\n",
      "SEN:\t 0.532±0.002\n",
      "SPEC:\t 0.550±0.002\n",
      "\n",
      "results for the baseline3_C\n",
      "AUC:\t 0.544±0.001\n",
      "AUPR:\t 0.549±0.001\n",
      "MCC:\t 0.167±0.002\n",
      "F1:\t 0.181±0.001\n",
      "SEN:\t 0.979±0.001\n",
      "SPEC:\t 0.102±0.001\n"
     ]
    }
   ],
   "source": [
    "print(\"binary results on testset3:\")\n",
    "baseline_results(bdb,df,target = \"binary\")"
   ]
  },
  {
   "cell_type": "markdown",
   "id": "0eb862a1-6c81-4f6c-a951-3aa3d9904877",
   "metadata": {},
   "source": [
    "## baseline for affinity"
   ]
  }
 ],
 "metadata": {
  "kernelspec": {
   "display_name": "Python 3 (ipykernel)",
   "language": "python",
   "name": "python3"
  },
  "language_info": {
   "codemirror_mode": {
    "name": "ipython",
    "version": 3
   },
   "file_extension": ".py",
   "mimetype": "text/x-python",
   "name": "python",
   "nbconvert_exporter": "python",
   "pygments_lexer": "ipython3",
   "version": "3.9.7"
  }
 },
 "nbformat": 4,
 "nbformat_minor": 5
}
