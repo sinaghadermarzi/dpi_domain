{
 "cells": [
  {
   "cell_type": "markdown",
   "id": "3dbfe925-191d-4b87-9fa3-ce82842753ba",
   "metadata": {},
   "source": [
    "# Evaluation of predictors"
   ]
  },
  {
   "cell_type": "markdown",
   "id": "aeb3e852-a737-4958-92b4-0712bc36f277",
   "metadata": {},
   "source": [
    "## 1. Moltrans"
   ]
  },
  {
   "cell_type": "markdown",
   "id": "1cce19e6-570e-492b-bca4-411ead4ff925",
   "metadata": {
    "tags": []
   },
   "source": [
    "### 1-1. dataset1"
   ]
  },
  {
   "cell_type": "code",
   "execution_count": 1,
   "id": "3356fd82-3672-49c7-8c1f-63dea2fcb253",
   "metadata": {},
   "outputs": [
    {
     "name": "stdout",
     "output_type": "stream",
     "text": [
      "report for binary:\n",
      "\n",
      "\n",
      "AUC:\t 0.669\n",
      "AUPR:\t 0.672\n",
      "MCC:\t 0.237\n",
      "F1:\t 0.626\n",
      "SEN:\t 0.611\n",
      "SPEC:\t 0.626\n",
      "-----------------------\n",
      "\n",
      "report for affinity:\n",
      "\n",
      "\n",
      "CI:\t 0.628\n",
      "MAE:\t 6.134\n",
      "MSE:\t 40.228\n",
      "PEA:\t 0.324\n",
      "SP:\t 0.359\n"
     ]
    }
   ],
   "source": [
    "\n",
    "from report_preds import evaluate_pred\n",
    "evaluate_pred(\"datasets/testset1.csv\",\"predictions/moltrans_custom.csv\")\n"
   ]
  },
  {
   "cell_type": "markdown",
   "id": "57c003a6-6c5d-4b6a-ad30-2464d031d4bd",
   "metadata": {
    "tags": []
   },
   "source": [
    "### 1-1. dataset1"
   ]
  },
  {
   "cell_type": "code",
   "execution_count": 2,
   "id": "623063c3-5170-415c-9f1d-a22223dfd7cb",
   "metadata": {
    "tags": []
   },
   "outputs": [
    {
     "name": "stdout",
     "output_type": "stream",
     "text": [
      "report for binary:\n",
      "\n",
      "P49841_612583 NOT FOUND!\n",
      "O75874_118717061 NOT FOUND!\n",
      "P00742_118987661 NOT FOUND!\n",
      "P06276_46204460 NOT FOUND!\n",
      "O43570_155537380 NOT FOUND!\n",
      "Q16790_389642 NOT FOUND!\n",
      "\n",
      "AUC:\t 0.942\n",
      "AUPR:\t 0.943\n",
      "MCC:\t 0.757\n",
      "F1:\t 0.881\n",
      "SEN:\t 0.876\n",
      "SPEC:\t 0.881\n",
      "-----------------------\n",
      "\n",
      "report for affinity:\n",
      "\n",
      "O75874_118717061 NOT FOUND!\n",
      "Q16790_389642 NOT FOUND!\n",
      "\n",
      "CI:\t 0.744\n",
      "MAE:\t 6.494\n",
      "MSE:\t 45.177\n",
      "PEA:\t 0.660\n",
      "SP:\t 0.688\n"
     ]
    }
   ],
   "source": [
    "\n",
    "from report_preds import evaluate_pred\n",
    "evaluate_pred(\"datasets/testset2.csv\",\"predictions/moltrans_custom.csv\")\n"
   ]
  },
  {
   "cell_type": "markdown",
   "id": "41b3c2c4-5a57-4cf9-b5d9-de615930dde2",
   "metadata": {
    "tags": []
   },
   "source": [
    "### 1-3. dataset3"
   ]
  },
  {
   "cell_type": "code",
   "execution_count": 3,
   "id": "0e7aa928-4ab3-48d3-9513-c2161ce3c445",
   "metadata": {},
   "outputs": [
    {
     "name": "stdout",
     "output_type": "stream",
     "text": [
      "report for binary:\n",
      "\n",
      "O60678_44560735 NOT FOUND!\n",
      "P40989_44449558 NOT FOUND!\n",
      "Q86TI2_46900103 NOT FOUND!\n",
      "\n",
      "AUC:\t 0.968\n",
      "AUPR:\t 0.964\n",
      "MCC:\t 0.835\n",
      "F1:\t 0.919\n",
      "SEN:\t 0.916\n",
      "SPEC:\t 0.919\n",
      "-----------------------\n",
      "\n",
      "report for affinity:\n",
      "\n",
      "Q86TI2_46900103 NOT FOUND!\n",
      "\n",
      "CI:\t 0.738\n",
      "MAE:\t 6.754\n",
      "MSE:\t 48.645\n",
      "PEA:\t 0.713\n",
      "SP:\t 0.676\n"
     ]
    }
   ],
   "source": [
    "\n",
    "from report_preds import evaluate_pred\n",
    "evaluate_pred(\"datasets/testset3.csv\",\"predictions/moltrans_custom.csv\")\n"
   ]
  },
  {
   "cell_type": "markdown",
   "id": "7306c2e2-2135-4a71-b3a2-336c8507f861",
   "metadata": {},
   "source": [
    "## DeepDTA"
   ]
  },
  {
   "cell_type": "markdown",
   "id": "171d5772-96dc-4754-877b-83d8abc03eab",
   "metadata": {
    "tags": []
   },
   "source": [
    "### 1-1. dataset1"
   ]
  },
  {
   "cell_type": "code",
   "execution_count": 3,
   "id": "25db15ac-a03f-4080-b6f3-a3147444d8c1",
   "metadata": {},
   "outputs": [
    {
     "name": "stdout",
     "output_type": "stream",
     "text": [
      "report for binary:\n",
      "\n",
      "\n",
      "AUC:\t 0.671\n",
      "AUPR:\t 0.641\n",
      "MCC:\t 0.282\n",
      "F1:\t 0.648\n",
      "SEN:\t 0.634\n",
      "SPEC:\t 0.648\n",
      "-----------------------\n",
      "\n",
      "report for affinity:\n",
      "\n",
      "\n",
      "CI:\t 0.670\n",
      "MAE:\t 1.382\n",
      "MSE:\t 3.957\n",
      "PEA:\t 0.380\n",
      "SP:\t 0.468\n"
     ]
    }
   ],
   "source": [
    "\n",
    "from report_preds import evaluate_pred\n",
    "evaluate_pred(\"datasets/testset1.csv\",\"predictions/deepdta_custom.csv\")\n"
   ]
  },
  {
   "cell_type": "markdown",
   "id": "dc6e9dd2-893d-4c82-ab56-3f47dbd7e4a2",
   "metadata": {
    "tags": []
   },
   "source": [
    "### 1-1. dataset1"
   ]
  },
  {
   "cell_type": "code",
   "execution_count": 4,
   "id": "11169435-22c9-464b-b7c8-a903ddfa0f40",
   "metadata": {
    "tags": []
   },
   "outputs": [
    {
     "name": "stdout",
     "output_type": "stream",
     "text": [
      "report for binary:\n",
      "\n",
      "\n",
      "AUC:\t 0.780\n",
      "AUPR:\t 0.755\n",
      "MCC:\t 0.423\n",
      "F1:\t 0.718\n",
      "SEN:\t 0.706\n",
      "SPEC:\t 0.718\n",
      "-----------------------\n",
      "\n",
      "report for affinity:\n",
      "\n",
      "\n",
      "CI:\t 0.788\n",
      "MAE:\t 0.984\n",
      "MSE:\t 2.104\n",
      "PEA:\t 0.811\n",
      "SP:\t 0.760\n"
     ]
    }
   ],
   "source": [
    "\n",
    "from report_preds import evaluate_pred\n",
    "evaluate_pred(\"datasets/testset2.csv\",\"predictions/deepdta_custom.csv\")\n"
   ]
  },
  {
   "cell_type": "markdown",
   "id": "63cc98b0-56ad-45d7-88fc-8f1dbc32f991",
   "metadata": {
    "tags": []
   },
   "source": [
    "### 1-3. dataset3"
   ]
  },
  {
   "cell_type": "code",
   "execution_count": 5,
   "id": "e7ef30ff-309d-4257-9616-2b25f9e1a376",
   "metadata": {},
   "outputs": [
    {
     "name": "stdout",
     "output_type": "stream",
     "text": [
      "report for binary:\n",
      "\n",
      "\n",
      "AUC:\t 0.793\n",
      "AUPR:\t 0.776\n",
      "MCC:\t 0.443\n",
      "F1:\t 0.727\n",
      "SEN:\t 0.716\n",
      "SPEC:\t 0.727\n",
      "-----------------------\n",
      "\n",
      "report for affinity:\n",
      "\n",
      "\n",
      "CI:\t 0.799\n",
      "MAE:\t 0.920\n",
      "MSE:\t 1.706\n",
      "PEA:\t 0.848\n",
      "SP:\t 0.782\n"
     ]
    }
   ],
   "source": [
    "\n",
    "from report_preds import evaluate_pred\n",
    "evaluate_pred(\"datasets/testset3.csv\",\"predictions/deepdta_custom.csv\")\n"
   ]
  },
  {
   "cell_type": "code",
   "execution_count": null,
   "id": "a961230d-2625-467f-b5dd-735114eb23e0",
   "metadata": {},
   "outputs": [],
   "source": []
  }
 ],
 "metadata": {
  "kernelspec": {
   "display_name": "Python 3 (ipykernel)",
   "language": "python",
   "name": "python3"
  },
  "language_info": {
   "codemirror_mode": {
    "name": "ipython",
    "version": 3
   },
   "file_extension": ".py",
   "mimetype": "text/x-python",
   "name": "python",
   "nbconvert_exporter": "python",
   "pygments_lexer": "ipython3",
   "version": "3.9.7"
  }
 },
 "nbformat": 4,
 "nbformat_minor": 5
}
